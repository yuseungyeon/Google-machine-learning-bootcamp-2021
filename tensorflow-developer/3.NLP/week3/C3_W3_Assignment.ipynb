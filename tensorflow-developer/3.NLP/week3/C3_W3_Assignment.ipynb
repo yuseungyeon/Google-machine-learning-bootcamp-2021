{
  "nbformat": 4,
  "nbformat_minor": 0,
  "metadata": {
    "accelerator": "GPU",
    "colab": {
      "name": "C3_W3_Assignment.ipynb",
      "provenance": []
    },
    "kernelspec": {
      "display_name": "Python 3",
      "language": "python",
      "name": "python3"
    },
    "language_info": {
      "codemirror_mode": {
        "name": "ipython",
        "version": 3
      },
      "file_extension": ".py",
      "mimetype": "text/x-python",
      "name": "python",
      "nbconvert_exporter": "python",
      "pygments_lexer": "ipython3",
      "version": "3.8.5"
    }
  },
  "cells": [
    {
      "cell_type": "code",
      "metadata": {
        "id": "zX4Kg8DUTKWO"
      },
      "source": [
        "#@title Licensed under the Apache License, Version 2.0 (the \"License\");\n",
        "# you may not use this file except in compliance with the License.\n",
        "# You may obtain a copy of the License at\n",
        "#\n",
        "# https://www.apache.org/licenses/LICENSE-2.0\n",
        "#\n",
        "# Unless required by applicable law or agreed to in writing, software\n",
        "# distributed under the License is distributed on an \"AS IS\" BASIS,\n",
        "# WITHOUT WARRANTIES OR CONDITIONS OF ANY KIND, either express or implied.\n",
        "# See the License for the specific language governing permissions and\n",
        "# limitations under the License."
      ],
      "execution_count": null,
      "outputs": []
    },
    {
      "cell_type": "markdown",
      "metadata": {
        "id": "gnU1TV9kV5f9"
      },
      "source": [
        "**Note:** This notebook can run using TensorFlow 2.5.0"
      ]
    },
    {
      "cell_type": "code",
      "metadata": {
        "id": "qTZDRvo5V5f9"
      },
      "source": [
        "#!pip install tensorflow==2.5.0"
      ],
      "execution_count": null,
      "outputs": []
    },
    {
      "cell_type": "code",
      "metadata": {
        "id": "hmA6EzkQJ5jt"
      },
      "source": [
        "import json\n",
        "import tensorflow as tf\n",
        "import csv\n",
        "import random\n",
        "import numpy as np\n",
        "\n",
        "from tensorflow.keras.preprocessing.text import Tokenizer\n",
        "from tensorflow.keras.preprocessing.sequence import pad_sequences\n",
        "from tensorflow.keras.utils import to_categorical\n",
        "from tensorflow.keras import regularizers\n",
        "\n",
        "\n",
        "embedding_dim = 100\n",
        "max_length = 16\n",
        "trunc_type='post'\n",
        "padding_type='post'\n",
        "oov_tok = \"<OOV>\"\n",
        "training_size=160000\n",
        "test_portion=.1\n",
        "\n",
        "corpus = []\n"
      ],
      "execution_count": 8,
      "outputs": []
    },
    {
      "cell_type": "code",
      "metadata": {
        "id": "bM0l_dORKqE0",
        "outputId": "96620ab2-cab8-4901-f111-96bed5315e8e",
        "colab": {
          "base_uri": "https://localhost:8080/"
        }
      },
      "source": [
        "# Note that I cleaned the Stanford dataset to remove LATIN1 encoding to make it easier for Python CSV reader\n",
        "# You can do that yourself with:\n",
        "# iconv -f LATIN1 -t UTF8 training.1600000.processed.noemoticon.csv -o training_cleaned.csv\n",
        "\n",
        "# training_cleaned.csv\n",
        "!gdown --id 1wd8KaeCSHxt-nEpMeuHFSNWrDp8joUXJ\n",
        "\n",
        "num_sentences = 0\n",
        "\n",
        "with open(\"./training_cleaned.csv\") as csvfile:\n",
        "  reader = csv.reader(csvfile, delimiter=',')\n",
        "  for row in reader:\n",
        "    list_item=[]\n",
        "    list_item.append(row[5])\n",
        "    label = row[0]\n",
        "    if label == '0':\n",
        "      list_item.append(0)\n",
        "    else:\n",
        "      list_item.append(1)\n",
        "        ### START CODE HERE\n",
        "        #Create list items where the first item is the text, found in row[5], and the second is the label. Note that the label is a '0' or a '4' in the text. When it's the former, make\n",
        "        # your label to be 0, otherwise 1. Keep a count of the number of sentences in num_sentences\n",
        "        ### END CODE HERE\n",
        "        \n",
        "    num_sentences = num_sentences + 1\n",
        "    corpus.append(list_item)\n"
      ],
      "execution_count": 9,
      "outputs": [
        {
          "output_type": "stream",
          "name": "stdout",
          "text": [
            "Downloading...\n",
            "From: https://drive.google.com/uc?id=1wd8KaeCSHxt-nEpMeuHFSNWrDp8joUXJ\n",
            "To: /content/training_cleaned.csv\n",
            "239MB [00:01, 167MB/s]\n"
          ]
        }
      ]
    },
    {
      "cell_type": "code",
      "metadata": {
        "id": "3kxblBUjEUX-",
        "outputId": "429b27c9-fe5f-4714-f3c6-cccd98674df5",
        "colab": {
          "base_uri": "https://localhost:8080/"
        }
      },
      "source": [
        "print(num_sentences)\n",
        "print(len(corpus))\n",
        "print(corpus[1])\n",
        "\n",
        "# Expected Output:\n",
        "# 1600000\n",
        "# 1600000\n",
        "# [\"is upset that he can't update his Facebook by texting it... and might cry as a result  School today also. Blah!\", 0]"
      ],
      "execution_count": 10,
      "outputs": [
        {
          "output_type": "stream",
          "name": "stdout",
          "text": [
            "1600000\n",
            "1600000\n",
            "[\"is upset that he can't update his Facebook by texting it... and might cry as a result  School today also. Blah!\", 0]\n"
          ]
        }
      ]
    },
    {
      "cell_type": "code",
      "metadata": {
        "id": "ohOGz24lsNAD"
      },
      "source": [
        "sentences=[]\n",
        "labels=[]\n",
        "random.shuffle(corpus)\n",
        "for x in range(training_size):\n",
        "    sentences.append(corpus[x][0])\n",
        "    labels.append(corpus[x][1])\n",
        "\n",
        "\n",
        "tokenizer = Tokenizer()\n",
        "tokenizer.fit_on_texts(sentences)\n",
        "\n",
        "word_index = tokenizer.word_index\n",
        "vocab_size=len(word_index)\n",
        "\n",
        "sequences = tokenizer.texts_to_sequences(sentences)\n",
        "padded = pad_sequences(sequences, maxlen = max_length, padding = padding_type, truncating = trunc_type)\n",
        "\n",
        "split = int(test_portion * training_size)\n",
        "\n",
        "test_sequences = padded[:split]\n",
        "training_sequences = padded[split:training_size]\n",
        "test_labels = labels[:split]\n",
        "training_labels = labels[split:training_size]"
      ],
      "execution_count": 12,
      "outputs": []
    },
    {
      "cell_type": "code",
      "metadata": {
        "id": "Y9OgJn6CLPnk"
      },
      "source": [
        "training_sequences = np.array(training_sequences)\n",
        "test_sequences = np.array(test_sequences)\n",
        "training_labels = np.array(training_labels)\n",
        "test_labels = np.array(test_labels)"
      ],
      "execution_count": 17,
      "outputs": []
    },
    {
      "cell_type": "code",
      "metadata": {
        "id": "gIrtRem1En3N",
        "outputId": "beac51f1-609e-4bee-ba71-c71cc1cd20cd",
        "colab": {
          "base_uri": "https://localhost:8080/"
        }
      },
      "source": [
        "print(vocab_size)\n",
        "print(word_index['i'])\n",
        "# Expected Output\n",
        "# 138856\n",
        "# 1"
      ],
      "execution_count": 18,
      "outputs": [
        {
          "output_type": "stream",
          "name": "stdout",
          "text": [
            "138602\n",
            "1\n"
          ]
        }
      ]
    },
    {
      "cell_type": "code",
      "metadata": {
        "id": "C1zdgJkusRh0",
        "outputId": "95d5d9a0-dd3f-4889-e5db-606fa998fc13",
        "colab": {
          "base_uri": "https://localhost:8080/"
        }
      },
      "source": [
        "# Note this is the 100 dimension version of GloVe from Stanford\n",
        "\n",
        "# glove.6B.100d.txt\n",
        "!gdown --id 1W5vZy2etitAblLdFn8_DxnsQKzfFJ98g\n",
        "\n",
        "embeddings_index = {};\n",
        "with open('./glove.6B.100d.txt') as f:\n",
        "    for line in f:\n",
        "        values = line.split();\n",
        "        word = values[0];\n",
        "        coefs = np.asarray(values[1:], dtype='float32');\n",
        "        embeddings_index[word] = coefs;\n",
        "\n",
        "embeddings_matrix = np.zeros((vocab_size+1, embedding_dim));\n",
        "for word, i in word_index.items():\n",
        "    embedding_vector = embeddings_index.get(word);\n",
        "    if embedding_vector is not None:\n",
        "        embeddings_matrix[i] = embedding_vector;"
      ],
      "execution_count": 19,
      "outputs": [
        {
          "output_type": "stream",
          "name": "stdout",
          "text": [
            "Downloading...\n",
            "From: https://drive.google.com/uc?id=1W5vZy2etitAblLdFn8_DxnsQKzfFJ98g\n",
            "To: /content/glove.6B.100d.txt\n",
            "347MB [00:02, 165MB/s]\n"
          ]
        }
      ]
    },
    {
      "cell_type": "code",
      "metadata": {
        "id": "71NLk_lpFLNt",
        "outputId": "cd72002d-3519-44bb-94d0-7ebd11ff3d1c",
        "colab": {
          "base_uri": "https://localhost:8080/"
        }
      },
      "source": [
        "print(len(embeddings_matrix))\n",
        "# Expected Output\n",
        "# 138857"
      ],
      "execution_count": 20,
      "outputs": [
        {
          "output_type": "stream",
          "name": "stdout",
          "text": [
            "138603\n"
          ]
        }
      ]
    },
    {
      "cell_type": "code",
      "metadata": {
        "id": "iKKvbuEBOGFz",
        "outputId": "9a82f2f5-0cf1-448e-cbf5-e2bb9a786719",
        "colab": {
          "base_uri": "https://localhost:8080/"
        }
      },
      "source": [
        "model = tf.keras.Sequential([\n",
        "    tf.keras.layers.Embedding(vocab_size+1, embedding_dim, input_length=max_length, weights=[embeddings_matrix], trainable=False),\n",
        "    # YOUR CODE HERE - experiment with combining different types, such as convolutions and LSTMs\n",
        "    tf.keras.layers.Conv1D(128, 5, activation = 'relu'),\n",
        "    tf.keras.layers.MaxPooling1D(pool_size = 4),\n",
        "    tf.keras.layers.LSTM(64),\n",
        "    tf.keras.layers.Dense(24, activation = 'relu'),\n",
        "    tf.keras.layers.Dense(1, activation = 'sigmoid')\n",
        "])\n",
        "model.compile(loss = 'binary_crossentropy', optimizer = 'adam', metrics = ['accuracy'])\n",
        "model.summary()\n",
        "\n",
        "num_epochs = 50\n",
        "history = model.fit(training_sequences, training_labels, epochs=num_epochs, validation_data=(test_sequences, test_labels), verbose=2)\n",
        "\n",
        "print(\"Training Complete\")\n"
      ],
      "execution_count": 22,
      "outputs": [
        {
          "output_type": "stream",
          "name": "stdout",
          "text": [
            "Model: \"sequential_2\"\n",
            "_________________________________________________________________\n",
            "Layer (type)                 Output Shape              Param #   \n",
            "=================================================================\n",
            "embedding_2 (Embedding)      (None, 16, 100)           13860300  \n",
            "_________________________________________________________________\n",
            "conv1d_2 (Conv1D)            (None, 12, 128)           64128     \n",
            "_________________________________________________________________\n",
            "max_pooling1d (MaxPooling1D) (None, 3, 128)            0         \n",
            "_________________________________________________________________\n",
            "lstm (LSTM)                  (None, 64)                49408     \n",
            "_________________________________________________________________\n",
            "dense_4 (Dense)              (None, 24)                1560      \n",
            "_________________________________________________________________\n",
            "dense_5 (Dense)              (None, 1)                 25        \n",
            "=================================================================\n",
            "Total params: 13,975,421\n",
            "Trainable params: 115,121\n",
            "Non-trainable params: 13,860,300\n",
            "_________________________________________________________________\n",
            "Epoch 1/50\n",
            "4500/4500 - 20s - loss: 0.5485 - accuracy: 0.7155 - val_loss: 0.5239 - val_accuracy: 0.7364\n",
            "Epoch 2/50\n",
            "4500/4500 - 17s - loss: 0.4973 - accuracy: 0.7531 - val_loss: 0.5108 - val_accuracy: 0.7464\n",
            "Epoch 3/50\n",
            "4500/4500 - 18s - loss: 0.4678 - accuracy: 0.7729 - val_loss: 0.5006 - val_accuracy: 0.7531\n",
            "Epoch 4/50\n",
            "4500/4500 - 18s - loss: 0.4405 - accuracy: 0.7902 - val_loss: 0.5098 - val_accuracy: 0.7524\n",
            "Epoch 5/50\n",
            "4500/4500 - 17s - loss: 0.4163 - accuracy: 0.8036 - val_loss: 0.5138 - val_accuracy: 0.7524\n",
            "Epoch 6/50\n",
            "4500/4500 - 17s - loss: 0.3906 - accuracy: 0.8187 - val_loss: 0.5431 - val_accuracy: 0.7454\n",
            "Epoch 7/50\n",
            "4500/4500 - 17s - loss: 0.3671 - accuracy: 0.8314 - val_loss: 0.5754 - val_accuracy: 0.7386\n",
            "Epoch 8/50\n",
            "4500/4500 - 17s - loss: 0.3447 - accuracy: 0.8431 - val_loss: 0.5929 - val_accuracy: 0.7427\n",
            "Epoch 9/50\n",
            "4500/4500 - 17s - loss: 0.3232 - accuracy: 0.8539 - val_loss: 0.6690 - val_accuracy: 0.7383\n",
            "Epoch 10/50\n",
            "4500/4500 - 17s - loss: 0.3045 - accuracy: 0.8644 - val_loss: 0.6985 - val_accuracy: 0.7321\n",
            "Epoch 11/50\n",
            "4500/4500 - 17s - loss: 0.2862 - accuracy: 0.8718 - val_loss: 0.7122 - val_accuracy: 0.7332\n",
            "Epoch 12/50\n",
            "4500/4500 - 17s - loss: 0.2713 - accuracy: 0.8813 - val_loss: 0.7370 - val_accuracy: 0.7278\n",
            "Epoch 13/50\n",
            "4500/4500 - 17s - loss: 0.2565 - accuracy: 0.8874 - val_loss: 0.7622 - val_accuracy: 0.7254\n",
            "Epoch 14/50\n",
            "4500/4500 - 17s - loss: 0.2423 - accuracy: 0.8937 - val_loss: 0.8504 - val_accuracy: 0.7239\n",
            "Epoch 15/50\n",
            "4500/4500 - 17s - loss: 0.2313 - accuracy: 0.8999 - val_loss: 0.8552 - val_accuracy: 0.7254\n",
            "Epoch 16/50\n",
            "4500/4500 - 17s - loss: 0.2206 - accuracy: 0.9052 - val_loss: 0.8732 - val_accuracy: 0.7171\n",
            "Epoch 17/50\n",
            "4500/4500 - 17s - loss: 0.2101 - accuracy: 0.9095 - val_loss: 0.9272 - val_accuracy: 0.7231\n",
            "Epoch 18/50\n",
            "4500/4500 - 17s - loss: 0.2010 - accuracy: 0.9138 - val_loss: 0.9239 - val_accuracy: 0.7189\n",
            "Epoch 19/50\n",
            "4500/4500 - 17s - loss: 0.1918 - accuracy: 0.9184 - val_loss: 0.9275 - val_accuracy: 0.7194\n",
            "Epoch 20/50\n",
            "4500/4500 - 17s - loss: 0.1853 - accuracy: 0.9218 - val_loss: 0.9978 - val_accuracy: 0.7221\n",
            "Epoch 21/50\n",
            "4500/4500 - 17s - loss: 0.1784 - accuracy: 0.9246 - val_loss: 1.0563 - val_accuracy: 0.7222\n",
            "Epoch 22/50\n",
            "4500/4500 - 17s - loss: 0.1715 - accuracy: 0.9284 - val_loss: 1.0652 - val_accuracy: 0.7259\n",
            "Epoch 23/50\n",
            "4500/4500 - 17s - loss: 0.1659 - accuracy: 0.9305 - val_loss: 1.0433 - val_accuracy: 0.7203\n",
            "Epoch 24/50\n",
            "4500/4500 - 17s - loss: 0.1611 - accuracy: 0.9327 - val_loss: 1.0878 - val_accuracy: 0.7201\n",
            "Epoch 25/50\n",
            "4500/4500 - 17s - loss: 0.1552 - accuracy: 0.9354 - val_loss: 1.1738 - val_accuracy: 0.7181\n",
            "Epoch 26/50\n",
            "4500/4500 - 17s - loss: 0.1518 - accuracy: 0.9370 - val_loss: 1.1464 - val_accuracy: 0.7178\n",
            "Epoch 27/50\n",
            "4500/4500 - 17s - loss: 0.1467 - accuracy: 0.9393 - val_loss: 1.1396 - val_accuracy: 0.7208\n",
            "Epoch 28/50\n",
            "4500/4500 - 17s - loss: 0.1440 - accuracy: 0.9410 - val_loss: 1.1888 - val_accuracy: 0.7164\n",
            "Epoch 29/50\n",
            "4500/4500 - 17s - loss: 0.1397 - accuracy: 0.9432 - val_loss: 1.2267 - val_accuracy: 0.7120\n",
            "Epoch 30/50\n",
            "4500/4500 - 17s - loss: 0.1382 - accuracy: 0.9437 - val_loss: 1.1911 - val_accuracy: 0.7179\n",
            "Epoch 31/50\n",
            "4500/4500 - 17s - loss: 0.1327 - accuracy: 0.9456 - val_loss: 1.2351 - val_accuracy: 0.7169\n",
            "Epoch 32/50\n",
            "4500/4500 - 17s - loss: 0.1294 - accuracy: 0.9476 - val_loss: 1.2040 - val_accuracy: 0.7129\n",
            "Epoch 33/50\n",
            "4500/4500 - 17s - loss: 0.1275 - accuracy: 0.9489 - val_loss: 1.2136 - val_accuracy: 0.7165\n",
            "Epoch 34/50\n",
            "4500/4500 - 17s - loss: 0.1260 - accuracy: 0.9487 - val_loss: 1.2674 - val_accuracy: 0.7149\n",
            "Epoch 35/50\n",
            "4500/4500 - 17s - loss: 0.1220 - accuracy: 0.9508 - val_loss: 1.2646 - val_accuracy: 0.7171\n",
            "Epoch 36/50\n",
            "4500/4500 - 17s - loss: 0.1220 - accuracy: 0.9512 - val_loss: 1.2771 - val_accuracy: 0.7171\n",
            "Epoch 37/50\n",
            "4500/4500 - 17s - loss: 0.1178 - accuracy: 0.9530 - val_loss: 1.2729 - val_accuracy: 0.7162\n",
            "Epoch 38/50\n",
            "4500/4500 - 17s - loss: 0.1159 - accuracy: 0.9539 - val_loss: 1.2756 - val_accuracy: 0.7168\n",
            "Epoch 39/50\n",
            "4500/4500 - 17s - loss: 0.1128 - accuracy: 0.9551 - val_loss: 1.3247 - val_accuracy: 0.7149\n",
            "Epoch 40/50\n",
            "4500/4500 - 17s - loss: 0.1149 - accuracy: 0.9543 - val_loss: 1.2941 - val_accuracy: 0.7169\n",
            "Epoch 41/50\n",
            "4500/4500 - 17s - loss: 0.1105 - accuracy: 0.9562 - val_loss: 1.3398 - val_accuracy: 0.7125\n",
            "Epoch 42/50\n",
            "4500/4500 - 17s - loss: 0.1098 - accuracy: 0.9566 - val_loss: 1.3133 - val_accuracy: 0.7159\n",
            "Epoch 43/50\n",
            "4500/4500 - 17s - loss: 0.1076 - accuracy: 0.9577 - val_loss: 1.3556 - val_accuracy: 0.7142\n",
            "Epoch 44/50\n",
            "4500/4500 - 17s - loss: 0.1054 - accuracy: 0.9582 - val_loss: 1.3561 - val_accuracy: 0.7174\n",
            "Epoch 45/50\n",
            "4500/4500 - 17s - loss: 0.1052 - accuracy: 0.9585 - val_loss: 1.3372 - val_accuracy: 0.7104\n",
            "Epoch 46/50\n",
            "4500/4500 - 17s - loss: 0.1035 - accuracy: 0.9594 - val_loss: 1.3283 - val_accuracy: 0.7129\n",
            "Epoch 47/50\n",
            "4500/4500 - 17s - loss: 0.1018 - accuracy: 0.9596 - val_loss: 1.4204 - val_accuracy: 0.7163\n",
            "Epoch 48/50\n",
            "4500/4500 - 17s - loss: 0.1008 - accuracy: 0.9607 - val_loss: 1.3947 - val_accuracy: 0.7172\n",
            "Epoch 49/50\n",
            "4500/4500 - 17s - loss: 0.0998 - accuracy: 0.9613 - val_loss: 1.4241 - val_accuracy: 0.7121\n",
            "Epoch 50/50\n",
            "4500/4500 - 17s - loss: 0.1013 - accuracy: 0.9601 - val_loss: 1.3957 - val_accuracy: 0.7155\n",
            "Training Complete\n"
          ]
        }
      ]
    },
    {
      "cell_type": "code",
      "metadata": {
        "id": "qxju4ItJKO8F",
        "outputId": "06c24949-ab9d-41d6-d967-bb3520c874f6",
        "colab": {
          "base_uri": "https://localhost:8080/",
          "height": 608
        }
      },
      "source": [
        "import matplotlib.image  as mpimg\n",
        "import matplotlib.pyplot as plt\n",
        "\n",
        "#-----------------------------------------------------------\n",
        "# Retrieve a list of list results on training and test data\n",
        "# sets for each training epoch\n",
        "#-----------------------------------------------------------\n",
        "acc=history.history['accuracy']\n",
        "val_acc=history.history['val_accuracy']\n",
        "loss=history.history['loss']\n",
        "val_loss=history.history['val_loss']\n",
        "\n",
        "epochs=range(len(acc)) # Get number of epochs\n",
        "\n",
        "#------------------------------------------------\n",
        "# Plot training and validation accuracy per epoch\n",
        "#------------------------------------------------\n",
        "plt.plot(epochs, acc, 'r')\n",
        "plt.plot(epochs, val_acc, 'b')\n",
        "plt.title('Training and validation accuracy')\n",
        "plt.xlabel(\"Epochs\")\n",
        "plt.ylabel(\"Accuracy\")\n",
        "plt.legend([\"Accuracy\", \"Validation Accuracy\"])\n",
        "\n",
        "plt.figure()\n",
        "\n",
        "#------------------------------------------------\n",
        "# Plot training and validation loss per epoch\n",
        "#------------------------------------------------\n",
        "plt.plot(epochs, loss, 'r')\n",
        "plt.plot(epochs, val_loss, 'b')\n",
        "plt.title('Training and validation loss')\n",
        "plt.xlabel(\"Epochs\")\n",
        "plt.ylabel(\"Loss\")\n",
        "plt.legend([\"Loss\", \"Validation Loss\"])\n",
        "\n",
        "plt.figure()\n",
        "\n",
        "\n",
        "# Expected Output\n",
        "# A chart where the validation loss does not increase sharply!"
      ],
      "execution_count": 23,
      "outputs": [
        {
          "output_type": "execute_result",
          "data": {
            "text/plain": [
              "<Figure size 432x288 with 0 Axes>"
            ]
          },
          "metadata": {},
          "execution_count": 23
        },
        {
          "output_type": "display_data",
          "data": {
            "image/png": "[encoded data removed]",
            "text/plain": [
              "<Figure size 432x288 with 1 Axes>"
            ]
          },
          "metadata": {
            "needs_background": "light"
          }
        },
        {
          "output_type": "display_data",
          "data": {
            "image/png": "[encoded data removed]",
            "text/plain": [
              "<Figure size 432x288 with 1 Axes>"
            ]
          },
          "metadata": {
            "needs_background": "light"
          }
        },
        {
          "output_type": "display_data",
          "data": {
            "text/plain": [
              "<Figure size 432x288 with 0 Axes>"
            ]
          },
          "metadata": {}
        }
      ]
    },
    {
      "cell_type": "code",
      "metadata": {
        "id": "djQrD-toPs12"
      },
      "source": [
        ""
      ],
      "execution_count": null,
      "outputs": []
    }
  ]
}