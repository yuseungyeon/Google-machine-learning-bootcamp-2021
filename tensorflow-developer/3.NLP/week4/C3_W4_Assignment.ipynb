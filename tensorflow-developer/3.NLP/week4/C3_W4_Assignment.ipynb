{
  "nbformat": 4,
  "nbformat_minor": 0,
  "metadata": {
    "accelerator": "GPU",
    "colab": {
      "name": "C3_W4_Assignment.ipynb",
      "provenance": []
    },
    "kernelspec": {
      "display_name": "Python 3",
      "language": "python",
      "name": "python3"
    },
    "language_info": {
      "codemirror_mode": {
        "name": "ipython",
        "version": 3
      },
      "file_extension": ".py",
      "mimetype": "text/x-python",
      "name": "python",
      "nbconvert_exporter": "python",
      "pygments_lexer": "ipython3",
      "version": "3.8.5"
    }
  },
  "cells": [
    {
      "cell_type": "code",
      "metadata": {
        "id": "T2XpcPvbXalN"
      },
      "source": [
        "#@title Licensed under the Apache License, Version 2.0 (the \"License\");\n",
        "# you may not use this file except in compliance with the License.\n",
        "# You may obtain a copy of the License at\n",
        "#\n",
        "# https://www.apache.org/licenses/LICENSE-2.0\n",
        "#\n",
        "# Unless required by applicable law or agreed to in writing, software\n",
        "# distributed under the License is distributed on an \"AS IS\" BASIS,\n",
        "# WITHOUT WARRANTIES OR CONDITIONS OF ANY KIND, either express or implied.\n",
        "# See the License for the specific language governing permissions and\n",
        "# limitations under the License."
      ],
      "execution_count": null,
      "outputs": []
    },
    {
      "cell_type": "markdown",
      "metadata": {
        "id": "eK88h3Y5XalO"
      },
      "source": [
        "**Note:** This notebook can run using TensorFlow 2.5.0"
      ]
    },
    {
      "cell_type": "code",
      "metadata": {
        "id": "zX4Kg8DUTKWO"
      },
      "source": [
        "#!pip install tensorflow==2.5.0"
      ],
      "execution_count": null,
      "outputs": []
    },
    {
      "cell_type": "code",
      "metadata": {
        "id": "BOwsuGQQY9OL"
      },
      "source": [
        "from tensorflow.keras.preprocessing.sequence import pad_sequences\n",
        "from tensorflow.keras.layers import Embedding, LSTM, Dense, Dropout, Bidirectional\n",
        "from tensorflow.keras.preprocessing.text import Tokenizer\n",
        "from tensorflow.keras.models import Sequential\n",
        "from tensorflow.keras.optimizers import Adam\n",
        "from tensorflow.keras import regularizers\n",
        "import tensorflow.keras.utils as ku \n",
        "import numpy as np "
      ],
      "execution_count": 3,
      "outputs": []
    },
    {
      "cell_type": "code",
      "metadata": {
        "id": "PRnDnCW-Z7qv",
        "outputId": "46003571-398f-4962-a89f-163e0a3cf172",
        "colab": {
          "base_uri": "https://localhost:8080/"
        }
      },
      "source": [
        "tokenizer = Tokenizer()\n",
        "\n",
        "# sonnets.txt\n",
        "!gdown --id 108jAePKK4R3BVYBbYJZ32JWUwxeMg20K\n",
        "\n",
        "data = open('./sonnets.txt').read()\n",
        "\n",
        "corpus = data.lower().split(\"\\n\")\n",
        "\n",
        "\n",
        "tokenizer.fit_on_texts(corpus)\n",
        "total_words = len(tokenizer.word_index) + 1\n",
        "\n",
        "# create input sequences using list of tokens\n",
        "input_sequences = []\n",
        "for line in corpus:\n",
        "\ttoken_list = tokenizer.texts_to_sequences([line])[0]\n",
        "\tfor i in range(1, len(token_list)):\n",
        "\t\tn_gram_sequence = token_list[:i+1]\n",
        "\t\tinput_sequences.append(n_gram_sequence)\n",
        "\n",
        "\n",
        "# pad sequences \n",
        "max_sequence_len = max([len(x) for x in input_sequences])\n",
        "input_sequences = np.array(pad_sequences(input_sequences, maxlen=max_sequence_len, padding='pre'))\n",
        "\n",
        "# create predictors and label\n",
        "predictors, label = input_sequences[:,:-1],input_sequences[:,-1]\n",
        "\n",
        "label = ku.to_categorical(label, num_classes=total_words)"
      ],
      "execution_count": 4,
      "outputs": [
        {
          "output_type": "stream",
          "name": "stdout",
          "text": [
            "Downloading...\n",
            "From: https://drive.google.com/uc?id=108jAePKK4R3BVYBbYJZ32JWUwxeMg20K\n",
            "To: /content/sonnets.txt\n",
            "\r  0% 0.00/93.6k [00:00<?, ?B/s]\r100% 93.6k/93.6k [00:00<00:00, 37.4MB/s]\n"
          ]
        }
      ]
    },
    {
      "cell_type": "code",
      "metadata": {
        "id": "w9vH8Y59ajYL",
        "outputId": "4e503fb4-8daa-40f9-feb3-f7dc808e60ca",
        "colab": {
          "base_uri": "https://localhost:8080/"
        }
      },
      "source": [
        "### START CODE HERE\n",
        "model = Sequential()\n",
        "model.add(Embedding(total_words, 64, input_length = max_sequence_len - 1))\n",
        "model.add(Bidirectional(LSTM(150, return_sequences = True)))\n",
        "model.add(Dropout(0.2))\n",
        "model.add(Bidirectional(LSTM(100)))\n",
        "model.add(Dense(total_words//2, activation = 'relu', kernel_regularizer=regularizers.l2(0.01)))\n",
        "model.add(Dense(total_words, activation = 'softmax'))\n",
        "adam = Adam(0.01)\n",
        "model.compile(loss = 'categorical_crossentropy', optimizer = 'adam', metrics = ['accuracy'])\n",
        "### END CODE HERE\n",
        "    \n",
        "print(model.summary())"
      ],
      "execution_count": 7,
      "outputs": [
        {
          "output_type": "stream",
          "name": "stdout",
          "text": [
            "Model: \"sequential_2\"\n",
            "_________________________________________________________________\n",
            "Layer (type)                 Output Shape              Param #   \n",
            "=================================================================\n",
            "embedding_1 (Embedding)      (None, 10, 64)            205504    \n",
            "_________________________________________________________________\n",
            "bidirectional_2 (Bidirection (None, 10, 300)           258000    \n",
            "_________________________________________________________________\n",
            "dropout_1 (Dropout)          (None, 10, 300)           0         \n",
            "_________________________________________________________________\n",
            "bidirectional_3 (Bidirection (None, 200)               320800    \n",
            "_________________________________________________________________\n",
            "dense_1 (Dense)              (None, 1605)              322605    \n",
            "_________________________________________________________________\n",
            "dense_2 (Dense)              (None, 3211)              5156866   \n",
            "=================================================================\n",
            "Total params: 6,263,775\n",
            "Trainable params: 6,263,775\n",
            "Non-trainable params: 0\n",
            "_________________________________________________________________\n",
            "None\n"
          ]
        }
      ]
    },
    {
      "cell_type": "code",
      "metadata": {
        "id": "AIg2f1HBxqof",
        "outputId": "8d2cbd7c-4125-43be-a4ac-ef641232800b",
        "colab": {
          "base_uri": "https://localhost:8080/"
        }
      },
      "source": [
        " history = model.fit(predictors, label, epochs=100, verbose=1)"
      ],
      "execution_count": 8,
      "outputs": [
        {
          "output_type": "stream",
          "name": "stdout",
          "text": [
            "Epoch 1/100\n",
            "484/484 [==============================] - 25s 29ms/step - loss: 6.9873 - accuracy: 0.0210\n",
            "Epoch 2/100\n",
            "484/484 [==============================] - 14s 30ms/step - loss: 6.5122 - accuracy: 0.0214\n",
            "Epoch 3/100\n",
            "484/484 [==============================] - 14s 29ms/step - loss: 6.4201 - accuracy: 0.0248\n",
            "Epoch 4/100\n",
            "484/484 [==============================] - 14s 30ms/step - loss: 6.2957 - accuracy: 0.0291\n",
            "Epoch 5/100\n",
            "484/484 [==============================] - 14s 30ms/step - loss: 6.1934 - accuracy: 0.0319\n",
            "Epoch 6/100\n",
            "484/484 [==============================] - 14s 30ms/step - loss: 6.1049 - accuracy: 0.0379\n",
            "Epoch 7/100\n",
            "484/484 [==============================] - 14s 30ms/step - loss: 6.0159 - accuracy: 0.0400\n",
            "Epoch 8/100\n",
            "484/484 [==============================] - 14s 29ms/step - loss: 5.9187 - accuracy: 0.0433\n",
            "Epoch 9/100\n",
            "484/484 [==============================] - 14s 29ms/step - loss: 5.8164 - accuracy: 0.0479\n",
            "Epoch 10/100\n",
            "484/484 [==============================] - 14s 29ms/step - loss: 5.7013 - accuracy: 0.0546\n",
            "Epoch 11/100\n",
            "484/484 [==============================] - 14s 29ms/step - loss: 5.5893 - accuracy: 0.0590\n",
            "Epoch 12/100\n",
            "484/484 [==============================] - 14s 29ms/step - loss: 5.4787 - accuracy: 0.0684\n",
            "Epoch 13/100\n",
            "484/484 [==============================] - 14s 29ms/step - loss: 5.3705 - accuracy: 0.0763\n",
            "Epoch 14/100\n",
            "484/484 [==============================] - 14s 29ms/step - loss: 5.2650 - accuracy: 0.0801\n",
            "Epoch 15/100\n",
            "484/484 [==============================] - 14s 29ms/step - loss: 5.1574 - accuracy: 0.0894\n",
            "Epoch 16/100\n",
            "484/484 [==============================] - 14s 29ms/step - loss: 5.0517 - accuracy: 0.0972\n",
            "Epoch 17/100\n",
            "484/484 [==============================] - 14s 29ms/step - loss: 4.9448 - accuracy: 0.1057\n",
            "Epoch 18/100\n",
            "484/484 [==============================] - 14s 30ms/step - loss: 4.8422 - accuracy: 0.1128\n",
            "Epoch 19/100\n",
            "484/484 [==============================] - 14s 29ms/step - loss: 4.7408 - accuracy: 0.1208\n",
            "Epoch 20/100\n",
            "484/484 [==============================] - 14s 29ms/step - loss: 4.6420 - accuracy: 0.1290\n",
            "Epoch 21/100\n",
            "484/484 [==============================] - 14s 29ms/step - loss: 4.5394 - accuracy: 0.1402\n",
            "Epoch 22/100\n",
            "484/484 [==============================] - 14s 29ms/step - loss: 4.4411 - accuracy: 0.1471\n",
            "Epoch 23/100\n",
            "484/484 [==============================] - 14s 30ms/step - loss: 4.3327 - accuracy: 0.1597\n",
            "Epoch 24/100\n",
            "484/484 [==============================] - 14s 30ms/step - loss: 4.2419 - accuracy: 0.1669\n",
            "Epoch 25/100\n",
            "484/484 [==============================] - 14s 29ms/step - loss: 4.1472 - accuracy: 0.1820\n",
            "Epoch 26/100\n",
            "484/484 [==============================] - 14s 29ms/step - loss: 4.0533 - accuracy: 0.1907\n",
            "Epoch 27/100\n",
            "484/484 [==============================] - 14s 29ms/step - loss: 3.9610 - accuracy: 0.2103\n",
            "Epoch 28/100\n",
            "484/484 [==============================] - 14s 30ms/step - loss: 3.8656 - accuracy: 0.2231\n",
            "Epoch 29/100\n",
            "484/484 [==============================] - 14s 30ms/step - loss: 3.7737 - accuracy: 0.2353\n",
            "Epoch 30/100\n",
            "484/484 [==============================] - 14s 30ms/step - loss: 3.6889 - accuracy: 0.2582\n",
            "Epoch 31/100\n",
            "484/484 [==============================] - 14s 29ms/step - loss: 3.6005 - accuracy: 0.2762\n",
            "Epoch 32/100\n",
            "484/484 [==============================] - 14s 30ms/step - loss: 3.5119 - accuracy: 0.2938\n",
            "Epoch 33/100\n",
            "484/484 [==============================] - 14s 30ms/step - loss: 3.4242 - accuracy: 0.3145\n",
            "Epoch 34/100\n",
            "484/484 [==============================] - 14s 30ms/step - loss: 3.3502 - accuracy: 0.3294\n",
            "Epoch 35/100\n",
            "484/484 [==============================] - 14s 30ms/step - loss: 3.2769 - accuracy: 0.3441\n",
            "Epoch 36/100\n",
            "484/484 [==============================] - 14s 29ms/step - loss: 3.1957 - accuracy: 0.3650\n",
            "Epoch 37/100\n",
            "484/484 [==============================] - 14s 29ms/step - loss: 3.1211 - accuracy: 0.3821\n",
            "Epoch 38/100\n",
            "484/484 [==============================] - 14s 30ms/step - loss: 3.0560 - accuracy: 0.3970\n",
            "Epoch 39/100\n",
            "484/484 [==============================] - 14s 30ms/step - loss: 2.9799 - accuracy: 0.4115\n",
            "Epoch 40/100\n",
            "484/484 [==============================] - 15s 30ms/step - loss: 2.9167 - accuracy: 0.4305\n",
            "Epoch 41/100\n",
            "484/484 [==============================] - 15s 31ms/step - loss: 2.8441 - accuracy: 0.4434\n",
            "Epoch 42/100\n",
            "484/484 [==============================] - 15s 31ms/step - loss: 2.7838 - accuracy: 0.4564\n",
            "Epoch 43/100\n",
            "484/484 [==============================] - 15s 30ms/step - loss: 2.7300 - accuracy: 0.4705\n",
            "Epoch 44/100\n",
            "484/484 [==============================] - 15s 30ms/step - loss: 2.6604 - accuracy: 0.4846\n",
            "Epoch 45/100\n",
            "484/484 [==============================] - 14s 29ms/step - loss: 2.6028 - accuracy: 0.4987\n",
            "Epoch 46/100\n",
            "484/484 [==============================] - 14s 30ms/step - loss: 2.5424 - accuracy: 0.5113\n",
            "Epoch 47/100\n",
            "484/484 [==============================] - 14s 30ms/step - loss: 2.4889 - accuracy: 0.5283\n",
            "Epoch 48/100\n",
            "484/484 [==============================] - 14s 30ms/step - loss: 2.4357 - accuracy: 0.5387\n",
            "Epoch 49/100\n",
            "484/484 [==============================] - 14s 29ms/step - loss: 2.3821 - accuracy: 0.5533\n",
            "Epoch 50/100\n",
            "484/484 [==============================] - 14s 30ms/step - loss: 2.3388 - accuracy: 0.5598\n",
            "Epoch 51/100\n",
            "484/484 [==============================] - 14s 30ms/step - loss: 2.2757 - accuracy: 0.5772\n",
            "Epoch 52/100\n",
            "484/484 [==============================] - 14s 30ms/step - loss: 2.2518 - accuracy: 0.5785\n",
            "Epoch 53/100\n",
            "484/484 [==============================] - 15s 31ms/step - loss: 2.1962 - accuracy: 0.5912\n",
            "Epoch 54/100\n",
            "484/484 [==============================] - 15s 31ms/step - loss: 2.1553 - accuracy: 0.6050\n",
            "Epoch 55/100\n",
            "484/484 [==============================] - 15s 30ms/step - loss: 2.1001 - accuracy: 0.6141\n",
            "Epoch 56/100\n",
            "484/484 [==============================] - 15s 30ms/step - loss: 2.0809 - accuracy: 0.6208\n",
            "Epoch 57/100\n",
            "484/484 [==============================] - 14s 29ms/step - loss: 2.0382 - accuracy: 0.6303\n",
            "Epoch 58/100\n",
            "484/484 [==============================] - 14s 29ms/step - loss: 1.9856 - accuracy: 0.6413\n",
            "Epoch 59/100\n",
            "484/484 [==============================] - 14s 30ms/step - loss: 1.9476 - accuracy: 0.6491\n",
            "Epoch 60/100\n",
            "484/484 [==============================] - 14s 30ms/step - loss: 1.9261 - accuracy: 0.6503\n",
            "Epoch 61/100\n",
            "484/484 [==============================] - 14s 29ms/step - loss: 1.8887 - accuracy: 0.6625\n",
            "Epoch 62/100\n",
            "484/484 [==============================] - 15s 31ms/step - loss: 1.8771 - accuracy: 0.6578\n",
            "Epoch 63/100\n",
            "484/484 [==============================] - 15s 31ms/step - loss: 1.8202 - accuracy: 0.6768\n",
            "Epoch 64/100\n",
            "484/484 [==============================] - 15s 31ms/step - loss: 1.7876 - accuracy: 0.6870\n",
            "Epoch 65/100\n",
            "484/484 [==============================] - 15s 31ms/step - loss: 1.7700 - accuracy: 0.6848\n",
            "Epoch 66/100\n",
            "484/484 [==============================] - 14s 30ms/step - loss: 1.7374 - accuracy: 0.6924\n",
            "Epoch 67/100\n",
            "484/484 [==============================] - 14s 29ms/step - loss: 1.7095 - accuracy: 0.7013\n",
            "Epoch 68/100\n",
            "484/484 [==============================] - 14s 29ms/step - loss: 1.6752 - accuracy: 0.7039\n",
            "Epoch 69/100\n",
            "484/484 [==============================] - 14s 30ms/step - loss: 1.6542 - accuracy: 0.7098\n",
            "Epoch 70/100\n",
            "484/484 [==============================] - 14s 30ms/step - loss: 1.6336 - accuracy: 0.7126\n",
            "Epoch 71/100\n",
            "484/484 [==============================] - 15s 31ms/step - loss: 1.5970 - accuracy: 0.7232\n",
            "Epoch 72/100\n",
            "484/484 [==============================] - 15s 31ms/step - loss: 1.5687 - accuracy: 0.7278\n",
            "Epoch 73/100\n",
            "484/484 [==============================] - 15s 31ms/step - loss: 1.5624 - accuracy: 0.7286\n",
            "Epoch 74/100\n",
            "484/484 [==============================] - 15s 30ms/step - loss: 1.5233 - accuracy: 0.7366\n",
            "Epoch 75/100\n",
            "484/484 [==============================] - 14s 30ms/step - loss: 1.5103 - accuracy: 0.7381\n",
            "Epoch 76/100\n",
            "484/484 [==============================] - 14s 30ms/step - loss: 1.4974 - accuracy: 0.7399\n",
            "Epoch 77/100\n",
            "484/484 [==============================] - 14s 29ms/step - loss: 1.4878 - accuracy: 0.7429\n",
            "Epoch 78/100\n",
            "484/484 [==============================] - 14s 30ms/step - loss: 1.4623 - accuracy: 0.7500\n",
            "Epoch 79/100\n",
            "484/484 [==============================] - 14s 29ms/step - loss: 1.4355 - accuracy: 0.7573\n",
            "Epoch 80/100\n",
            "484/484 [==============================] - 14s 30ms/step - loss: 1.4154 - accuracy: 0.7547\n",
            "Epoch 81/100\n",
            "484/484 [==============================] - 14s 30ms/step - loss: 1.3970 - accuracy: 0.7622\n",
            "Epoch 82/100\n",
            "484/484 [==============================] - 14s 30ms/step - loss: 1.3916 - accuracy: 0.7621\n",
            "Epoch 83/100\n",
            "484/484 [==============================] - 14s 30ms/step - loss: 1.3705 - accuracy: 0.7639\n",
            "Epoch 84/100\n",
            "484/484 [==============================] - 14s 30ms/step - loss: 1.3643 - accuracy: 0.7651\n",
            "Epoch 85/100\n",
            "484/484 [==============================] - 15s 31ms/step - loss: 1.3369 - accuracy: 0.7707\n",
            "Epoch 86/100\n",
            "484/484 [==============================] - 15s 31ms/step - loss: 1.3183 - accuracy: 0.7749\n",
            "Epoch 87/100\n",
            "484/484 [==============================] - 15s 31ms/step - loss: 1.2942 - accuracy: 0.7819\n",
            "Epoch 88/100\n",
            "484/484 [==============================] - 15s 31ms/step - loss: 1.2852 - accuracy: 0.7808\n",
            "Epoch 89/100\n",
            "484/484 [==============================] - 14s 29ms/step - loss: 1.2951 - accuracy: 0.7769\n",
            "Epoch 90/100\n",
            "484/484 [==============================] - 14s 30ms/step - loss: 1.2636 - accuracy: 0.7830\n",
            "Epoch 91/100\n",
            "484/484 [==============================] - 14s 30ms/step - loss: 1.2542 - accuracy: 0.7863\n",
            "Epoch 92/100\n",
            "484/484 [==============================] - 14s 30ms/step - loss: 1.2507 - accuracy: 0.7842\n",
            "Epoch 93/100\n",
            "484/484 [==============================] - 14s 30ms/step - loss: 1.2207 - accuracy: 0.7940\n",
            "Epoch 94/100\n",
            "484/484 [==============================] - 14s 30ms/step - loss: 1.2142 - accuracy: 0.7932\n",
            "Epoch 95/100\n",
            "484/484 [==============================] - 14s 30ms/step - loss: 1.2024 - accuracy: 0.7941\n",
            "Epoch 96/100\n",
            "484/484 [==============================] - 14s 30ms/step - loss: 1.1967 - accuracy: 0.7955\n",
            "Epoch 97/100\n",
            "484/484 [==============================] - 14s 30ms/step - loss: 1.1940 - accuracy: 0.7941\n",
            "Epoch 98/100\n",
            "484/484 [==============================] - 14s 30ms/step - loss: 1.1915 - accuracy: 0.7939\n",
            "Epoch 99/100\n",
            "484/484 [==============================] - 14s 30ms/step - loss: 1.1677 - accuracy: 0.8005\n",
            "Epoch 100/100\n",
            "484/484 [==============================] - 14s 30ms/step - loss: 1.1787 - accuracy: 0.7947\n"
          ]
        }
      ]
    },
    {
      "cell_type": "code",
      "metadata": {
        "id": "1fXTEO3GJ282",
        "outputId": "4bf92153-3556-480e-f5ef-209e8dc0a6ff",
        "colab": {
          "base_uri": "https://localhost:8080/",
          "height": 545
        }
      },
      "source": [
        "import matplotlib.pyplot as plt\n",
        "acc = history.history['accuracy']\n",
        "loss = history.history['loss']\n",
        "\n",
        "epochs = range(len(acc))\n",
        "\n",
        "plt.plot(epochs, acc, 'b', label='Training accuracy')\n",
        "plt.title('Training accuracy')\n",
        "\n",
        "plt.figure()\n",
        "\n",
        "plt.plot(epochs, loss, 'b', label='Training Loss')\n",
        "plt.title('Training loss')\n",
        "plt.legend()\n",
        "\n",
        "plt.show()"
      ],
      "execution_count": 9,
      "outputs": [
        {
          "output_type": "display_data",
          "data": {
            "image/png": "[encoded data removed]",
            "text/plain": [
              "<Figure size 432x288 with 1 Axes>"
            ]
          },
          "metadata": {
            "needs_background": "light"
          }
        },
        {
          "output_type": "display_data",
          "data": {
            "image/png": "[encoded data removed]",
            "text/plain": [
              "<Figure size 432x288 with 1 Axes>"
            ]
          },
          "metadata": {
            "needs_background": "light"
          }
        }
      ]
    },
    {
      "cell_type": "code",
      "metadata": {
        "id": "6Vc6PHgxa6Hm",
        "outputId": "a82e9089-9211-4591-d756-9bcc38ba8c0e",
        "colab": {
          "base_uri": "https://localhost:8080/"
        }
      },
      "source": [
        "seed_text = \"Help me Obi Wan Kenobi, you're my only hope\"\n",
        "next_words = 100\n",
        "  \n",
        "for _ in range(next_words):\n",
        "\ttoken_list = tokenizer.texts_to_sequences([seed_text])[0]\n",
        "\ttoken_list = pad_sequences([token_list], maxlen=max_sequence_len-1, padding='pre')\n",
        "\tpredicted = model.predict(token_list, verbose = 0)\n",
        "\tpredicted = np.argmax(predicted, axis = 1)\n",
        "\toutput_word = \"\"\n",
        "\tfor word, index in tokenizer.word_index.items():\n",
        "\t\tif index == predicted:\n",
        "\t\t\toutput_word = word\n",
        "\t\t\tbreak\n",
        "\tseed_text += \" \" + output_word\n",
        "print(seed_text)"
      ],
      "execution_count": 10,
      "outputs": [
        {
          "output_type": "stream",
          "name": "stdout",
          "text": [
            "Help me Obi Wan Kenobi, you're my only hope and well as both behind bright burn'd date sit hid with goodly pride of hue both sense both fuel night up grow lust both so lease away still grew thence night them young thee up give doubt it green things strong remedy cured lack still out 'tis me back alone belongs my friend self will ' thee seen none lived alone shine bright it doth find room room now taken away releasing room night away ' had days bright know it live in good care gain her moan as hearts hand may cold ill bright new bright still afloat cross\n"
          ]
        }
      ]
    },
    {
      "cell_type": "code",
      "metadata": {
        "id": "rtomm5yOSKNV"
      },
      "source": [
        ""
      ],
      "execution_count": null,
      "outputs": []
    }
  ]
}